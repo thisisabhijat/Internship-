{
 "cells": [
  {
   "cell_type": "markdown",
   "metadata": {},
   "source": [
    "# Numpy Random Module\n",
    "- arange: to make a simple array of our type\n",
    "- rand: to make a random array\n",
    "- randn\n",
    "- randint\n",
    "- seed: to prevent the shuffle (np.random.seed(1))\n",
    "- random: for executing random commands\n",
    "- choice: random choice\n",
    "- Shuffle: shuffling the array"
   ]
  },
  {
   "cell_type": "code",
   "execution_count": 1,
   "metadata": {},
   "outputs": [],
   "source": [
    "import numpy as np"
   ]
  },
  {
   "cell_type": "code",
   "execution_count": 2,
   "metadata": {
    "scrolled": true
   },
   "outputs": [
    {
     "name": "stdout",
     "output_type": "stream",
     "text": [
      "[0 1 2 3 4 5 6 7 8 9]\n"
     ]
    }
   ],
   "source": [
    "# array of first 10 nos\n",
    "a = np.arange(10)\n",
    "\n",
    "print(a)"
   ]
  },
  {
   "cell_type": "code",
   "execution_count": 3,
   "metadata": {},
   "outputs": [
    {
     "name": "stdout",
     "output_type": "stream",
     "text": [
      "[ 5  6  7  8  9 10 11 12 13 14]\n"
     ]
    }
   ],
   "source": [
    "# array starting from 5\n",
    "a = np.arange(10) + 5\n",
    "\n",
    "print(a)"
   ]
  },
  {
   "cell_type": "code",
   "execution_count": 4,
   "metadata": {},
   "outputs": [
    {
     "name": "stdout",
     "output_type": "stream",
     "text": [
      "[ 9 10 14  7  6 13  5 11  8 12]\n"
     ]
    }
   ],
   "source": [
    "# shuffling the array randomly\n",
    "np.random.shuffle(a)\n",
    "\n",
    "print(a)"
   ]
  },
  {
   "cell_type": "code",
   "execution_count": 5,
   "metadata": {},
   "outputs": [
    {
     "name": "stdout",
     "output_type": "stream",
     "text": [
      "[[0.58945365 0.30823622 0.3917253 ]\n",
      " [0.62391863 0.29045351 0.87765985]]\n"
     ]
    }
   ],
   "source": [
    "# returns values from a standard normal distrubution \n",
    "# making the random array using rand function\n",
    "a = np.random.rand(2, 3)\n",
    "\n",
    "print(a)"
   ]
  },
  {
   "cell_type": "code",
   "execution_count": 36,
   "metadata": {},
   "outputs": [
    {
     "name": "stdout",
     "output_type": "stream",
     "text": [
      "[[[0.86392893 0.71912259 0.53661059]\n",
      "  [0.61655165 0.62976009 0.79032389]\n",
      "  [0.89311653 0.73614061 0.54649236]\n",
      "  [0.13380472 0.01773027 0.02833972]\n",
      "  [0.55161307 0.22661286 0.86283269]\n",
      "  [0.85039132 0.8767862  0.58309849]\n",
      "  [0.14219612 0.46579982 0.13556775]\n",
      "  [0.48880912 0.71461727 0.43926571]\n",
      "  [0.50395072 0.85101358 0.92514816]\n",
      "  [0.7115258  0.06576472 0.44277344]]\n",
      "\n",
      " [[0.52539789 0.68235141 0.31326933]\n",
      "  [0.00603284 0.27075535 0.76320296]\n",
      "  [0.37880512 0.16005573 0.29396068]\n",
      "  [0.78387446 0.87323676 0.70646944]\n",
      "  [0.98210873 0.51888981 0.16014413]\n",
      "  [0.17514907 0.96370419 0.48055919]\n",
      "  [0.03009923 0.73360595 0.40245348]\n",
      "  [0.45868489 0.85756459 0.61842718]\n",
      "  [0.09420253 0.22681904 0.15213963]\n",
      "  [0.04507633 0.67872167 0.65609548]]\n",
      "\n",
      " [[0.54154809 0.54669571 0.77946792]\n",
      "  [0.62170429 0.23536754 0.48622461]\n",
      "  [0.93787368 0.51884708 0.30632523]\n",
      "  [0.11841825 0.62693634 0.96091349]\n",
      "  [0.16222558 0.07198963 0.69647638]\n",
      "  [0.54571841 0.35962229 0.56068465]\n",
      "  [0.71707761 0.65529278 0.58198694]\n",
      "  [0.53813966 0.03707432 0.9492818 ]\n",
      "  [0.96747857 0.17019311 0.04097308]\n",
      "  [0.05768498 0.5964967  0.34805118]]\n",
      "\n",
      " [[0.2187636  0.30423093 0.53587622]\n",
      "  [0.04588197 0.76609763 0.90010205]\n",
      "  [0.16058269 0.9349     0.03696342]\n",
      "  [0.03444891 0.64130485 0.19525073]\n",
      "  [0.28473776 0.24006618 0.65785147]\n",
      "  [0.06641673 0.02292175 0.69531773]\n",
      "  [0.15465822 0.15366878 0.11217138]\n",
      "  [0.79833614 0.2491846  0.75236879]\n",
      "  [0.685672   0.47319026 0.67446102]\n",
      "  [0.00299732 0.38034256 0.266102  ]]\n",
      "\n",
      " [[0.52301673 0.54705965 0.97178917]\n",
      "  [0.5298575  0.50286407 0.96011681]\n",
      "  [0.41521352 0.467066   0.8287617 ]\n",
      "  [0.07255089 0.36636681 0.89289742]\n",
      "  [0.05682033 0.49483561 0.06319546]\n",
      "  [0.83884404 0.52679289 0.21871008]\n",
      "  [0.10177665 0.89998055 0.69822621]\n",
      "  [0.88993929 0.10035299 0.65161818]\n",
      "  [0.73351694 0.78564339 0.58257484]\n",
      "  [0.54756065 0.01791532 0.51529394]]]\n"
     ]
    }
   ],
   "source": [
    "b = np.random.rand(5, 10, 3)\n",
    "\n",
    "print(b)"
   ]
  },
  {
   "cell_type": "code",
   "execution_count": 40,
   "metadata": {},
   "outputs": [
    {
     "name": "stdout",
     "output_type": "stream",
     "text": [
      "11\n"
     ]
    }
   ],
   "source": [
    "# randomly pick one element from an array\n",
    "element = np.random.choice([4, 3, 2, 11, 27])\n",
    "\n",
    "print(element)"
   ]
  }
 ],
 "metadata": {
  "kernelspec": {
   "display_name": "Python 3",
   "language": "python",
   "name": "python3"
  },
  "language_info": {
   "codemirror_mode": {
    "name": "ipython",
    "version": 3
   },
   "file_extension": ".py",
   "mimetype": "text/x-python",
   "name": "python",
   "nbconvert_exporter": "python",
   "pygments_lexer": "ipython3",
   "version": "3.9.0"
  }
 },
 "nbformat": 4,
 "nbformat_minor": 4
}
