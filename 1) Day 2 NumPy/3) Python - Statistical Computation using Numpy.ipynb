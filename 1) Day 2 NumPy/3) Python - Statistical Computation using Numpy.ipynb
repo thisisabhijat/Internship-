{
 "cells": [
  {
   "cell_type": "markdown",
   "metadata": {},
   "source": [
    "# Some More Numpy Functions - Statistics\n",
    "- min, max\n",
    "- mean\n",
    "- median\n",
    "- average \n",
    "- variance\n",
    "- standard deviation"
   ]
  },
  {
   "cell_type": "code",
   "execution_count": 1,
   "metadata": {},
   "outputs": [],
   "source": [
    "import numpy as np"
   ]
  },
  {
   "cell_type": "code",
   "execution_count": 2,
   "metadata": {
    "scrolled": true
   },
   "outputs": [
    {
     "name": "stdout",
     "output_type": "stream",
     "text": [
      "[[1 2 3 4]\n",
      " [7 8 9 0]]\n"
     ]
    }
   ],
   "source": [
    "a = np.array([[1, 2, 3, 4], [7, 8, 9, 0]])\n",
    "print(a)"
   ]
  },
  {
   "cell_type": "code",
   "execution_count": 3,
   "metadata": {},
   "outputs": [
    {
     "name": "stdout",
     "output_type": "stream",
     "text": [
      "0\n",
      "[1 2 3 0]\n",
      "[1 0]\n"
     ]
    }
   ],
   "source": [
    "# min\n",
    "print(np.min(a))\n",
    "\n",
    "print(np.min(a, axis = 0))\n",
    "\n",
    "print(np.min(a, axis = 1))"
   ]
  },
  {
   "cell_type": "code",
   "execution_count": 4,
   "metadata": {},
   "outputs": [
    {
     "name": "stdout",
     "output_type": "stream",
     "text": [
      "9\n",
      "[7 8 9 4]\n",
      "[4 9]\n"
     ]
    }
   ],
   "source": [
    "# max\n",
    "print(np.max(a))\n",
    "\n",
    "print(np.max(a, axis = 0))\n",
    "\n",
    "print(np.max(a, axis = 1))"
   ]
  },
  {
   "cell_type": "code",
   "execution_count": 5,
   "metadata": {},
   "outputs": [
    {
     "name": "stdout",
     "output_type": "stream",
     "text": [
      "3.0\n"
     ]
    }
   ],
   "source": [
    "# mean\n",
    "b = np.array([1, 2, 3, 4, 5])\n",
    "\n",
    "m = sum(b) / 5\n",
    "\n",
    "print(m)"
   ]
  },
  {
   "cell_type": "code",
   "execution_count": 6,
   "metadata": {},
   "outputs": [
    {
     "name": "stdout",
     "output_type": "stream",
     "text": [
      "3.0\n"
     ]
    }
   ],
   "source": [
    "c = np.mean(b)\n",
    "\n",
    "print(c)"
   ]
  },
  {
   "cell_type": "code",
   "execution_count": 16,
   "metadata": {
    "scrolled": true
   },
   "outputs": [
    {
     "name": "stdout",
     "output_type": "stream",
     "text": [
      "[[1 2 3 4]\n",
      " [7 8 9 0]]\n",
      "4.25\n",
      "[4. 5. 6. 2.]\n",
      "[2.5 6. ]\n"
     ]
    }
   ],
   "source": [
    "a = np.array([[1, 2, 3, 4], [7, 8, 9, 0]])\n",
    "print(a)\n",
    "print(np.mean(a))\n",
    "\n",
    "print(np.mean(a, axis = 0))\n",
    "\n",
    "print(np.mean(a, axis = 1))"
   ]
  },
  {
   "cell_type": "code",
   "execution_count": 20,
   "metadata": {
    "scrolled": true
   },
   "outputs": [
    {
     "name": "stdout",
     "output_type": "stream",
     "text": [
      "[0, 1, 2, 4, 5]\n",
      "2.0\n"
     ]
    }
   ],
   "source": [
    "# median\n",
    "c = np.array([1, 5, 4, 2, 0])\n",
    "print(sorted(c))\n",
    "print(np.median(c))"
   ]
  },
  {
   "cell_type": "code",
   "execution_count": 9,
   "metadata": {
    "scrolled": true
   },
   "outputs": [
    {
     "name": "stdout",
     "output_type": "stream",
     "text": [
      "2.4\n",
      "2.066666666666667\n",
      "2.4\n"
     ]
    }
   ],
   "source": [
    "# mean vs average \n",
    "print(np.mean(c))\n",
    "\n",
    "# avreage is weighted\n",
    "w = np.array([1, 2, 3, 4, 5])\n",
    "\n",
    "print(np.average(c, weights = w))\n",
    "# (1*1 + 2*5 + 3*4 + 4*2 + 5*0)/(1+2+3+4+5)\n",
    "\n",
    "# if w has only 1, this mean it is calulating the mean only\n",
    "w = np.array([1, 1, 1, 1, 1])\n",
    "\n",
    "print(np.average(c, weights = w))"
   ]
  },
  {
   "cell_type": "code",
   "execution_count": 10,
   "metadata": {},
   "outputs": [
    {
     "name": "stdout",
     "output_type": "stream",
     "text": [
      "1.854723699099141\n"
     ]
    }
   ],
   "source": [
    "# standard deviation\n",
    "u = np.mean(c)\n",
    "\n",
    "mystd = np.sqrt(np.mean(abs(c - u) ** 2))\n",
    "# formula for standard deviation is \n",
    "    \n",
    "\n",
    "print(mystd)"
   ]
  },
  {
   "cell_type": "code",
   "execution_count": 11,
   "metadata": {},
   "outputs": [
    {
     "name": "stdout",
     "output_type": "stream",
     "text": [
      "1.854723699099141\n"
     ]
    }
   ],
   "source": [
    "#  inbuilt function\n",
    "dev = np.std(c)\n",
    "\n",
    "print(dev)"
   ]
  },
  {
   "cell_type": "code",
   "execution_count": 12,
   "metadata": {},
   "outputs": [
    {
     "name": "stdout",
     "output_type": "stream",
     "text": [
      "3.440000000000001\n",
      "3.4400000000000004\n"
     ]
    }
   ],
   "source": [
    "# variance \n",
    "print(mystd ** 2)\n",
    "\n",
    "print(np.var(c))"
   ]
  },
  {
   "cell_type": "code",
   "execution_count": 13,
   "metadata": {},
   "outputs": [
    {
     "name": "stdout",
     "output_type": "stream",
     "text": [
      "[]\n"
     ]
    }
   ],
   "source": [
    "z = np.array([])\n",
    "print(z)"
   ]
  }
 ],
 "metadata": {
  "kernelspec": {
   "display_name": "Python 3",
   "language": "python",
   "name": "python3"
  },
  "language_info": {
   "codemirror_mode": {
    "name": "ipython",
    "version": 3
   },
   "file_extension": ".py",
   "mimetype": "text/x-python",
   "name": "python",
   "nbconvert_exporter": "python",
   "pygments_lexer": "ipython3",
   "version": "3.9.0"
  }
 },
 "nbformat": 4,
 "nbformat_minor": 4
}
