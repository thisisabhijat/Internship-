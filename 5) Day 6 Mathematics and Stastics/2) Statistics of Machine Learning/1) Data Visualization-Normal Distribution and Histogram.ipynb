{
 "cells": [
  {
   "cell_type": "code",
   "execution_count": 1,
   "metadata": {},
   "outputs": [],
   "source": [
    "import numpy as np\n",
    "import matplotlib.pyplot as plt\n",
    "import seaborn as sns"
   ]
  },
  {
   "cell_type": "markdown",
   "metadata": {},
   "source": [
    "# 1"
   ]
  },
  {
   "cell_type": "code",
   "execution_count": 2,
   "metadata": {},
   "outputs": [
    {
     "data": {
      "text/plain": [
       "(1000,)"
      ]
     },
     "execution_count": 2,
     "metadata": {},
     "output_type": "execute_result"
    }
   ],
   "source": [
    "# generate a Normal Distribution for 1D\n",
    "# when mean is 0 and standard deviation is 1 it is called the Standard Normal Distribution\n",
    "\n",
    "\n",
    "# This is Standard Normal Distribution\n",
    "u = 0\n",
    "sigma = 1 \n",
    "\n",
    "# n in randn denotes noraml distribution\n",
    "vals = np.random.randn(1000)\n",
    "vals.shape"
   ]
  },
  {
   "cell_type": "markdown",
   "metadata": {},
   "source": [
    "# 2\n",
    "Histogram: takes one one variable\n",
    "         : estimate of probability distribution of continuous variable invented by KarlPearson"
   ]
  },
  {
   "cell_type": "code",
   "execution_count": 9,
   "metadata": {},
   "outputs": [
    {
     "data": {
      "image/png": "[encoded data removed]",
      "text/plain": [
       "<Figure size 576x396 with 1 Axes>"
      ]
     },
     "metadata": {},
     "output_type": "display_data"
    }
   ],
   "source": [
    "sns.set_style('white')\n",
    "plt.style.use('seaborn')\n",
    "\n",
    "u = 5\n",
    "sigma = 1\n",
    "\n",
    "vals = sigma*np.random.randn(1000) + u\n",
    "\n",
    "plt.hist(vals, 50)# 50 is the number of intervals or bars\n",
    "plt.show()\n",
    "# y axis is the number of values inside the bar or the interval\n",
    "# x axis is the values obtained from the sigma and meand"
   ]
  },
  {
   "cell_type": "code",
   "execution_count": 73,
   "metadata": {},
   "outputs": [
    {
     "name": "stdout",
     "output_type": "stream",
     "text": [
      "(array([2., 3., 4., 5., 6., 7., 8.]), array([  8,  52, 248, 394, 232,  61,   5], dtype=int64))\n"
     ]
    }
   ],
   "source": [
    "vals.round() == np.round(vals)\n",
    "vals = np.round(vals)\n",
    "z = np.unique(vals, return_counts = True)\n",
    "print(z)\n",
    "# 2 has 5 values, 3 has 60 values"
   ]
  },
  {
   "cell_type": "code",
   "execution_count": 78,
   "metadata": {},
   "outputs": [
    {
     "data": {
      "text/plain": [
       "(array([2., 3., 4., 5., 6., 7., 8.]),\n",
       " array([  8,  52, 248, 394, 232,  61,   5], dtype=int64))"
      ]
     },
     "execution_count": 78,
     "metadata": {},
     "output_type": "execute_result"
    }
   ],
   "source": [
    "x = np.unique(vals, return_counts = True)\n",
    "x"
   ]
  }
 ],
 "metadata": {
  "kernelspec": {
   "display_name": "Python 3",
   "language": "python",
   "name": "python3"
  },
  "language_info": {
   "codemirror_mode": {
    "name": "ipython",
    "version": 3
   },
   "file_extension": ".py",
   "mimetype": "text/x-python",
   "name": "python",
   "nbconvert_exporter": "python",
   "pygments_lexer": "ipython3",
   "version": "3.9.0"
  }
 },
 "nbformat": 4,
 "nbformat_minor": 4
}
