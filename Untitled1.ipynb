{
  "nbformat": 4,
  "nbformat_minor": 0,
  "metadata": {
    "colab": {
      "name": "Untitled1.ipynb",
      "provenance": [],
      "collapsed_sections": []
    },
    "kernelspec": {
      "name": "python3",
      "display_name": "Python 3"
    }
  },
  "cells": [
    {
      "cell_type": "code",
      "metadata": {
        "id": "8cJZeI0SwHlb"
      },
      "source": [
        "import json \r\n",
        "import numpy as np \r\n",
        "import tensorflow as tf\r\n",
        "from tensorflow import keras\r\n",
        "from tensorflow.keras.models import Sequential\r\n",
        "from tensorflow.keras.layers import Dense, Embedding, GlobalAveragePooling1D\r\n",
        "from tensorflow.keras.preprocessing.text import Tokenizer\r\n",
        "from tensorflow.keras.preprocessing.sequence import pad_sequences\r\n",
        "from sklearn.preprocessing import LabelEncoder"
      ],
      "execution_count": 161,
      "outputs": []
    },
    {
      "cell_type": "code",
      "metadata": {
        "id": "yiXoERsOwxkT"
      },
      "source": [
        "training_sentences = []\r\n",
        "training_labels = []\r\n",
        "labels = []\r\n",
        "responses = []"
      ],
      "execution_count": 162,
      "outputs": []
    },
    {
      "cell_type": "code",
      "metadata": {
        "id": "EbELlYauwM4E"
      },
      "source": [
        "with open('intents.json') as file:\r\n",
        "    data = json.load(file)"
      ],
      "execution_count": 163,
      "outputs": []
    },
    {
      "cell_type": "code",
      "metadata": {
        "id": "ShoVPWf0wNSq"
      },
      "source": [
        "for intent in data['intents']:\r\n",
        "    for pattern in intent['patterns']:\r\n",
        "        training_sentences.append(pattern)\r\n",
        "        training_labels.append(intent['tag'])\r\n",
        "    responses.append(intent['responses'])\r\n",
        "    \r\n",
        "    if intent['tag'] not in labels:\r\n",
        "        labels.append(intent['tag'])"
      ],
      "execution_count": 164,
      "outputs": []
    },
    {
      "cell_type": "code",
      "metadata": {
        "id": "KaIkMme-wB_W"
      },
      "source": [
        ""
      ],
      "execution_count": 164,
      "outputs": []
    },
    {
      "cell_type": "markdown",
      "metadata": {
        "id": "si835IqWwFkm"
      },
      "source": [
        "## **Inbuilt**"
      ]
    },
    {
      "cell_type": "code",
      "metadata": {
        "colab": {
          "base_uri": "https://localhost:8080/"
        },
        "id": "dMUbzYmRr4dM",
        "outputId": "e830223f-0c2e-49cb-a442-4c33213d226d"
      },
      "source": [
        "lbl_encoder = LabelEncoder()\r\n",
        "lbl_encoder.fit(training_labels) \r\n",
        "\r\n",
        "training_labels = lbl_encoder.transform(training_labels)\r\n",
        "\r\n",
        "print(training_labels)\r\n",
        "len(training_labels)"
      ],
      "execution_count": 160,
      "outputs": [
        {
          "output_type": "stream",
          "text": [
            "[4 4 4 4 4 4 4 3 3 3 3 3 8 8 8 8 8 6 6 6 6 6 0 0 0 0 0 1 1 1 1 1 2 2 2 2 2\n",
            " 7 7 7 7 7 5 5 5 5 5]\n"
          ],
          "name": "stdout"
        },
        {
          "output_type": "execute_result",
          "data": {
            "text/plain": [
              "47"
            ]
          },
          "metadata": {
            "tags": []
          },
          "execution_count": 160
        }
      ]
    },
    {
      "cell_type": "code",
      "metadata": {
        "id": "PIIMauSmr5Dz"
      },
      "source": [
        ""
      ],
      "execution_count": null,
      "outputs": []
    },
    {
      "cell_type": "code",
      "metadata": {
        "id": "2XzEJjpjr5Vj"
      },
      "source": [
        ""
      ],
      "execution_count": null,
      "outputs": []
    },
    {
      "cell_type": "markdown",
      "metadata": {
        "id": "Xm4dUDIjv7XM"
      },
      "source": [
        "### ***My*** function "
      ]
    },
    {
      "cell_type": "code",
      "metadata": {
        "id": "i4IpyAp4crPI"
      },
      "source": [
        "classarray = []\r\n",
        "for count, data in enumerate(training_labels):\r\n",
        "  if data not in classarray:\r\n",
        "    classarray.append(data)"
      ],
      "execution_count": 165,
      "outputs": []
    },
    {
      "cell_type": "code",
      "metadata": {
        "colab": {
          "base_uri": "https://localhost:8080/"
        },
        "id": "k4wPBU4miXFa",
        "outputId": "10863edc-3c92-4827-94d9-d7adf5177e16"
      },
      "source": [
        "sorted(classarray)"
      ],
      "execution_count": 166,
      "outputs": [
        {
          "output_type": "execute_result",
          "data": {
            "text/plain": [
              "['adverse_drug',\n",
              " 'blood_pressure',\n",
              " 'blood_pressure_search',\n",
              " 'goodbye',\n",
              " 'greeting',\n",
              " 'hospital_search',\n",
              " 'options',\n",
              " 'pharmacy_search',\n",
              " 'thanks']"
            ]
          },
          "metadata": {
            "tags": []
          },
          "execution_count": 166
        }
      ]
    },
    {
      "cell_type": "code",
      "metadata": {
        "colab": {
          "base_uri": "https://localhost:8080/"
        },
        "id": "mcPhWcTDiqde",
        "outputId": "912de90f-c293-4256-920c-064c87e89ba1"
      },
      "source": [
        "class_labels = lbl_encoder.transform(classarray)\r\n",
        "class_labels"
      ],
      "execution_count": 167,
      "outputs": [
        {
          "output_type": "execute_result",
          "data": {
            "text/plain": [
              "array([4, 3, 8, 6, 0, 1, 2, 7, 5])"
            ]
          },
          "metadata": {
            "tags": []
          },
          "execution_count": 167
        }
      ]
    },
    {
      "cell_type": "code",
      "metadata": {
        "colab": {
          "base_uri": "https://localhost:8080/"
        },
        "id": "NB12Yj4_mLOq",
        "outputId": "d71f5c1e-6cbb-4401-b049-a2310bddcc2c"
      },
      "source": [
        "num_array = []\r\n",
        "for i in class_labels:\r\n",
        "  for idx,j in enumerate((training_labels)):\r\n",
        "    if training_labels[idx] == training_labels[idx+1]:\r\n",
        "       num_array.append(i)\r\n",
        "    elif(training_labels[idx] != training_labels[idx+1]):\r\n",
        "      num_array.append(i)\r\n",
        "      break\r\n",
        "\r\n",
        "print((num_array))\r\n",
        "len(num_array)"
      ],
      "execution_count": 168,
      "outputs": [
        {
          "output_type": "stream",
          "text": [
            "[4, 4, 4, 4, 4, 4, 4, 3, 3, 3, 3, 3, 3, 3, 8, 8, 8, 8, 8, 8, 8, 6, 6, 6, 6, 6, 6, 6, 0, 0, 0, 0, 0, 0, 0, 1, 1, 1, 1, 1, 1, 1, 2, 2, 2, 2, 2, 2, 2, 7, 7, 7, 7, 7, 7, 7, 5, 5, 5, 5, 5, 5, 5]\n"
          ],
          "name": "stdout"
        },
        {
          "output_type": "execute_result",
          "data": {
            "text/plain": [
              "63"
            ]
          },
          "metadata": {
            "tags": []
          },
          "execution_count": 168
        }
      ]
    },
    {
      "cell_type": "code",
      "metadata": {
        "id": "OKa3z6yFr1jN"
      },
      "source": [
        ""
      ],
      "execution_count": 168,
      "outputs": []
    },
    {
      "cell_type": "code",
      "metadata": {
        "id": "HreRO9r0vnpX"
      },
      "source": [
        ""
      ],
      "execution_count": 168,
      "outputs": []
    },
    {
      "cell_type": "code",
      "metadata": {
        "id": "0ZcnHjuivn6E"
      },
      "source": [
        ""
      ],
      "execution_count": 168,
      "outputs": []
    },
    {
      "cell_type": "code",
      "metadata": {
        "colab": {
          "base_uri": "https://localhost:8080/"
        },
        "id": "qZ0Db85uvoKE",
        "outputId": "49f9bc4f-7e13-462b-bead-e3ba5f7366e3"
      },
      "source": [
        "num_array = []\r\n",
        "(training_labels)\r\n",
        "for i in class_labels:\r\n",
        "  for idx,j in enumerate(sorted_tl):\r\n",
        "    if sorted_tl[idx] == sorted_tl[idx+1]:\r\n",
        "       num_array.append(i)\r\n",
        "    elif(sorted_tl[idx] != sorted_tl[idx+1]):\r\n",
        "      num_array.append(i)\r\n",
        "      break\r\n",
        "\r\n",
        "print((num_array))\r\n",
        "len(num_array)"
      ],
      "execution_count": 169,
      "outputs": [
        {
          "output_type": "stream",
          "text": [
            "[4, 4, 4, 4, 4, 3, 3, 3, 3, 3, 8, 8, 8, 8, 8, 6, 6, 6, 6, 6, 0, 0, 0, 0, 0, 1, 1, 1, 1, 1, 2, 2, 2, 2, 2, 7, 7, 7, 7, 7, 5, 5, 5, 5, 5]\n"
          ],
          "name": "stdout"
        },
        {
          "output_type": "execute_result",
          "data": {
            "text/plain": [
              "45"
            ]
          },
          "metadata": {
            "tags": []
          },
          "execution_count": 169
        }
      ]
    },
    {
      "cell_type": "code",
      "metadata": {
        "id": "h4lgxX1TxL7G"
      },
      "source": [
        ""
      ],
      "execution_count": 169,
      "outputs": []
    }
  ]
}